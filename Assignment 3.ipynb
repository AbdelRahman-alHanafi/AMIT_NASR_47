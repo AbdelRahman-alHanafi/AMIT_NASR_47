{
 "cells": [
  {
   "cell_type": "markdown",
   "id": "037c73ac-0d86-4d5a-ac97-b8163844f2c7",
   "metadata": {},
   "source": [
    "## Fanction "
   ]
  },
  {
   "cell_type": "markdown",
   "id": "9ddbbe12-2784-4faa-9799-8ba9e7fb71e4",
   "metadata": {},
   "source": [
    "- Write a function that takes two numbers as arguments and returns their sum."
   ]
  },
  {
   "cell_type": "code",
   "execution_count": 17,
   "id": "029a5666-3416-4670-9644-a19b5fd88d26",
   "metadata": {},
   "outputs": [],
   "source": [
    "def SUM(num_1, num_2):\n",
    "    return (num_1 + num_2)"
   ]
  },
  {
   "cell_type": "code",
   "execution_count": 18,
   "id": "f7e0881d-061d-410e-9208-0c4dcd6f0e9a",
   "metadata": {},
   "outputs": [
    {
     "name": "stdout",
     "output_type": "stream",
     "text": [
      "5\n"
     ]
    }
   ],
   "source": [
    "print(SUM(2, 3))"
   ]
  },
  {
   "cell_type": "markdown",
   "id": "c6c90bb5-b251-407e-b13a-4c3a320f20ac",
   "metadata": {},
   "source": [
    "- Write a function that takes a list of numbers as an argument and returns the sum of those numbers."
   ]
  },
  {
   "cell_type": "code",
   "execution_count": 19,
   "id": "13e36074-9d7d-4c6d-9652-71c37a63b20c",
   "metadata": {},
   "outputs": [],
   "source": [
    "def SumOfList(num_list):\n",
    "    num_list_SUM = 0\n",
    "    for num in num_list:\n",
    "        num_list_SUM += num\n",
    "    return num_list_SUM"
   ]
  },
  {
   "cell_type": "code",
   "execution_count": 20,
   "id": "f8a90255-14a2-45e5-a265-646a13fd4167",
   "metadata": {},
   "outputs": [
    {
     "name": "stdout",
     "output_type": "stream",
     "text": [
      "55\n"
     ]
    }
   ],
   "source": [
    "print(SumOfList([1, 2, 3, 4, 5, 6, 7, 8, 9, 10]))"
   ]
  },
  {
   "cell_type": "markdown",
   "id": "5b13316d-6e99-40cc-8e20-c1cef178b500",
   "metadata": {},
   "source": [
    "- Write a function that takes a string as an argument and returns the length of that string."
   ]
  },
  {
   "cell_type": "code",
   "execution_count": 21,
   "id": "faf27133-fcec-4fb1-8ee5-33fe55d782ad",
   "metadata": {},
   "outputs": [],
   "source": [
    "def StLen(St):\n",
    "    return len(St)"
   ]
  },
  {
   "cell_type": "code",
   "execution_count": 22,
   "id": "4b8a74e0-55d3-483b-ad65-092cd3433a77",
   "metadata": {},
   "outputs": [
    {
     "name": "stdout",
     "output_type": "stream",
     "text": [
      "11\n"
     ]
    }
   ],
   "source": [
    "print(StLen(\"Abdelrahman\"))"
   ]
  },
  {
   "cell_type": "markdown",
   "id": "4f940a21-5052-4cf3-85ed-ec3f0b757f55",
   "metadata": {},
   "source": [
    "- Write a function that takes a list of strings as an argument and returns the length of the longest string in the list."
   ]
  },
  {
   "cell_type": "code",
   "execution_count": 23,
   "id": "5ad1b6ba-f2a0-4cd2-ab9e-daf2ee67f102",
   "metadata": {},
   "outputs": [],
   "source": [
    "def MaxOfStLen(List_St):\n",
    "    max_len = 0\n",
    "    for ST in List_St:\n",
    "        if len(ST) > max_len:\n",
    "            max_len = len(ST)\n",
    "    return max_len"
   ]
  },
  {
   "cell_type": "code",
   "execution_count": 24,
   "id": "23530052-32c9-43d9-9368-6bcd08689995",
   "metadata": {},
   "outputs": [
    {
     "name": "stdout",
     "output_type": "stream",
     "text": [
      "11\n"
     ]
    }
   ],
   "source": [
    "print(MaxOfStLen([\"Abdelrahman\", \"Ali\", \"alHanafi\"]))"
   ]
  },
  {
   "cell_type": "markdown",
   "id": "c32bc5e5-da6a-4fc1-b634-84f58974b6a8",
   "metadata": {},
   "source": [
    "- Write a function that takes a list of numbers as an argument and returns the average of those numbers."
   ]
  },
  {
   "cell_type": "code",
   "execution_count": 25,
   "id": "e2a2b96f-1918-494a-bda5-47d1d5027249",
   "metadata": {},
   "outputs": [],
   "source": [
    "def SumOfList(num_list):\n",
    "    num_list_SUM = 0\n",
    "    for num in num_list:\n",
    "        num_list_SUM += num\n",
    "    return num_list_SUM\n",
    "\n",
    "def AvgOfList(num_list):\n",
    "    num_list_AVG = SumOfList(num_list) / len(num_list)\n",
    "    return num_list_AVG"
   ]
  },
  {
   "cell_type": "code",
   "execution_count": 26,
   "id": "e1ad7d48-cb7a-4393-8c6a-96bb4354ebed",
   "metadata": {},
   "outputs": [
    {
     "name": "stdout",
     "output_type": "stream",
     "text": [
      "5.5\n"
     ]
    }
   ],
   "source": [
    "print(AvgOfList([1, 2, 3, 4, 5, 6, 7, 8, 9, 10]))"
   ]
  },
  {
   "cell_type": "markdown",
   "id": "c389e500-46ee-40f6-9c57-17a0649edc63",
   "metadata": {},
   "source": [
    "- Write a function that takes a string as an argument and returns True if the string is a palindrome (reads the same forwards and backwards) and False otherwise."
   ]
  },
  {
   "cell_type": "code",
   "execution_count": 27,
   "id": "d03a375f-5718-4858-b42c-8b05b5f3f5e1",
   "metadata": {},
   "outputs": [],
   "source": [
    "def CheckWordIsPalindrome(St):\n",
    "    if St[-1::-1] == St:\n",
    "        return True\n",
    "    else:\n",
    "        return False"
   ]
  },
  {
   "cell_type": "code",
   "execution_count": 28,
   "id": "7f4cc590-1d95-4619-8451-eaebd27132ea",
   "metadata": {},
   "outputs": [
    {
     "name": "stdout",
     "output_type": "stream",
     "text": [
      "True\n",
      "False\n",
      "True\n"
     ]
    }
   ],
   "source": [
    "print(CheckWordIsPalindrome(\"rotor\"))\n",
    "print(CheckWordIsPalindrome(\"stator\"))\n",
    "print(CheckWordIsPalindrome(\"radar\"))"
   ]
  },
  {
   "cell_type": "markdown",
   "id": "6572eb4a-7322-4def-b606-896135c22124",
   "metadata": {},
   "source": [
    "- Write a function that takes a list of numbers as an argument and returns a new list containing only the even numbers from the original list."
   ]
  },
  {
   "cell_type": "code",
   "execution_count": 29,
   "id": "52a9054a-f8fc-4fa6-b94e-0623a0f7093e",
   "metadata": {},
   "outputs": [],
   "source": [
    "def FilterEvenNumOfList(List):\n",
    "    even_list = []\n",
    "    for num in List:\n",
    "        if num % 2 == 0:\n",
    "            even_list.append(num)\n",
    "    return even_list"
   ]
  },
  {
   "cell_type": "code",
   "execution_count": 30,
   "id": "c8c91a17-7c46-48b6-ae79-cc6bdb94bf8b",
   "metadata": {},
   "outputs": [
    {
     "name": "stdout",
     "output_type": "stream",
     "text": [
      "[44, 32, 18]\n"
     ]
    }
   ],
   "source": [
    "print(FilterEvenNumOfList([1, 44, 7, 99, 32, 35, 18]))"
   ]
  },
  {
   "cell_type": "markdown",
   "id": "1ba77608-13ac-4dd4-9aa3-322cc099e485",
   "metadata": {},
   "source": [
    "- Write a function that takes a list of numbers as an argument and returns a new list containing the squares of those numbers."
   ]
  },
  {
   "cell_type": "code",
   "execution_count": 31,
   "id": "1e2e22ef-86bd-4f40-af4a-8f2951e2ccbf",
   "metadata": {},
   "outputs": [],
   "source": [
    "def SqrOfList(List):\n",
    "    for ind in range(len(List)):\n",
    "        List[ind] **= 2\n",
    "    return List"
   ]
  },
  {
   "cell_type": "code",
   "execution_count": 32,
   "id": "c8e84052-20e3-4031-88bf-a984b4f58063",
   "metadata": {},
   "outputs": [
    {
     "name": "stdout",
     "output_type": "stream",
     "text": [
      "[1, 1936, 49, 9801, 1024, 1225, 324]\n"
     ]
    }
   ],
   "source": [
    "print(SqrOfList([1, 44, 7, 99, 32, 35, 18]))"
   ]
  },
  {
   "cell_type": "code",
   "execution_count": null,
   "id": "3b685a52-1fdb-427f-828e-a1dac6eac0de",
   "metadata": {},
   "outputs": [],
   "source": []
  }
 ],
 "metadata": {
  "kernelspec": {
   "display_name": "Python 3 (ipykernel)",
   "language": "python",
   "name": "python3"
  },
  "language_info": {
   "codemirror_mode": {
    "name": "ipython",
    "version": 3
   },
   "file_extension": ".py",
   "mimetype": "text/x-python",
   "name": "python",
   "nbconvert_exporter": "python",
   "pygments_lexer": "ipython3",
   "version": "3.11.3"
  }
 },
 "nbformat": 4,
 "nbformat_minor": 5
}
